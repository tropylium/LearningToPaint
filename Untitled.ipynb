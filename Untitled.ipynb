{
 "cells": [
  {
   "cell_type": "code",
   "execution_count": 18,
   "metadata": {},
   "outputs": [
    {
     "name": "stdout",
     "output_type": "stream",
     "text": [
      "loaded 10000 images\n",
      "shape of image (128, 128)\n",
      "loaded 20000 images\n",
      "shape of image (128, 128)\n",
      "loaded 30000 images\n",
      "shape of image (128, 128)\n",
      "loaded 40000 images\n",
      "shape of image (128, 128)\n",
      "loaded 50000 images\n",
      "shape of image (128, 128)\n",
      "loaded 60000 images\n",
      "shape of image (128, 128)\n",
      "finish loading data, 60000 training images, 10000 testing images\n"
     ]
    }
   ],
   "source": [
    "import sys\n",
    "import json\n",
    "import torch\n",
    "import numpy as np\n",
    "import argparse\n",
    "import torchvision.transforms as transforms\n",
    "import cv2\n",
    "# from DRL.ddpg import decode\n",
    "# from utils.util import *\n",
    "from PIL import Image\n",
    "from torchvision import transforms, utils\n",
    "import idx2numpy\n",
    "\n",
    "i = 0 \n",
    "width = 128\n",
    "img_train = []\n",
    "img_test = []\n",
    "train_num = 0\n",
    "test_num = 0\n",
    "\n",
    "train_images = 'data/MNIST/train-images-idx3-ubyte'\n",
    "test_images = 'data/MNIST/t10k-images-idx3-ubyte'\n",
    "train_arr = idx2numpy.convert_from_file(train_images)\n",
    "# train_arr is now a np.ndarray type of object of shape 60000, 28, 28\n",
    "test_arr = idx2numpy.convert_from_file(test_images)\n",
    "# 10000 test images\n",
    "\n",
    "for i in range(train_arr.shape[0]):\n",
    "    img = cv2.resize(train_arr[i], (width, width)) #128 by 128\n",
    "    img_train.append(img)\n",
    "    train_num += 1\n",
    "    if (i + 1) % 10000 == 0:\n",
    "        print('loaded {} images'.format(i + 1))\n",
    "        print('shape of image {}'.format(img.shape))        \n",
    "\n",
    "for i in range(test_arr.shape[0]):\n",
    "    img = cv2.resize(test_arr[i], (width, width)) #128 by 128\n",
    "    img_test.append(img)\n",
    "    test_num += 1\n",
    "\n",
    "print('finish loading data, {} training images, {} testing images'.format(str(len(img_train)), str(len(img_test))))\n",
    "\n"
   ]
  },
  {
   "cell_type": "code",
   "execution_count": 19,
   "metadata": {},
   "outputs": [
    {
     "data": {
      "text/plain": [
       "True"
      ]
     },
     "execution_count": 19,
     "metadata": {},
     "output_type": "execute_result"
    },
    {
     "data": {
      "image/png": "[encoded data removed]",
      "text/plain": [
       "<Figure size 432x288 with 1 Axes>"
      ]
     },
     "metadata": {
      "needs_background": "light"
     },
     "output_type": "display_data"
    }
   ],
   "source": [
    "import matplotlib.pyplot as plt\n",
    "import copy\n",
    "plt.imshow(img_train[0].squeeze(), cmap='gray');\n",
    "\n",
    "img_copy = copy.deepcopy(img_train[0])\n",
    "img_copy = img_copy[:, :, np.newaxis]\n",
    "img_copy = np.repeat(img_copy, 3, axis=2)\n",
    "\n",
    "cv2.imwrite('image/digit_5' + '.png', img_copy)\n"
   ]
  }
 ],
 "metadata": {
  "kernelspec": {
   "display_name": "Python 3 PowerAI Base",
   "language": "python",
   "name": "python3"
  },
  "language_info": {
   "codemirror_mode": {
    "name": "ipython",
    "version": 3
   },
   "file_extension": ".py",
   "mimetype": "text/x-python",
   "name": "python",
   "nbconvert_exporter": "python",
   "pygments_lexer": "ipython3",
   "version": "3.7.6"
  }
 },
 "nbformat": 4,
 "nbformat_minor": 4
}
